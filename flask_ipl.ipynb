{
  "nbformat": 4,
  "nbformat_minor": 0,
  "metadata": {
    "colab": {
      "name": "flask_ipl.ipynb",
      "provenance": [],
      "collapsed_sections": []
    },
    "kernelspec": {
      "name": "python3",
      "display_name": "Python 3"
    }
  },
  "cells": [
    {
      "cell_type": "code",
      "metadata": {
        "id": "baiFf1ZF8cIY"
      },
      "source": [
        "import numpy as np"
      ],
      "execution_count": 23,
      "outputs": []
    },
    {
      "cell_type": "code",
      "metadata": {
        "colab": {
          "base_uri": "https://localhost:8080/"
        },
        "id": "NLfUQcQz8wlb",
        "outputId": "96a4475d-0d65-4332-e4cb-199378747fcb"
      },
      "source": [
        "!pip install flask-ngrok"
      ],
      "execution_count": 18,
      "outputs": [
        {
          "output_type": "stream",
          "text": [
            "Requirement already satisfied: flask-ngrok in /usr/local/lib/python3.6/dist-packages (0.0.25)\n",
            "Requirement already satisfied: requests in /usr/local/lib/python3.6/dist-packages (from flask-ngrok) (2.23.0)\n",
            "Requirement already satisfied: Flask>=0.8 in /usr/local/lib/python3.6/dist-packages (from flask-ngrok) (1.1.2)\n",
            "Requirement already satisfied: certifi>=2017.4.17 in /usr/local/lib/python3.6/dist-packages (from requests->flask-ngrok) (2020.11.8)\n",
            "Requirement already satisfied: idna<3,>=2.5 in /usr/local/lib/python3.6/dist-packages (from requests->flask-ngrok) (2.10)\n",
            "Requirement already satisfied: chardet<4,>=3.0.2 in /usr/local/lib/python3.6/dist-packages (from requests->flask-ngrok) (3.0.4)\n",
            "Requirement already satisfied: urllib3!=1.25.0,!=1.25.1,<1.26,>=1.21.1 in /usr/local/lib/python3.6/dist-packages (from requests->flask-ngrok) (1.24.3)\n",
            "Requirement already satisfied: itsdangerous>=0.24 in /usr/local/lib/python3.6/dist-packages (from Flask>=0.8->flask-ngrok) (1.1.0)\n",
            "Requirement already satisfied: click>=5.1 in /usr/local/lib/python3.6/dist-packages (from Flask>=0.8->flask-ngrok) (7.1.2)\n",
            "Requirement already satisfied: Jinja2>=2.10.1 in /usr/local/lib/python3.6/dist-packages (from Flask>=0.8->flask-ngrok) (2.11.2)\n",
            "Requirement already satisfied: Werkzeug>=0.15 in /usr/local/lib/python3.6/dist-packages (from Flask>=0.8->flask-ngrok) (1.0.1)\n",
            "Requirement already satisfied: MarkupSafe>=0.23 in /usr/local/lib/python3.6/dist-packages (from Jinja2>=2.10.1->Flask>=0.8->flask-ngrok) (1.1.1)\n"
          ],
          "name": "stdout"
        }
      ]
    },
    {
      "cell_type": "code",
      "metadata": {
        "id": "XLjZb2TQE5-v"
      },
      "source": [
        "%mkdir templates -p\n",
        "%mkdir static -p"
      ],
      "execution_count": 1,
      "outputs": []
    },
    {
      "cell_type": "code",
      "metadata": {
        "id": "3adpzsz1FAov"
      },
      "source": [
        ""
      ],
      "execution_count": null,
      "outputs": []
    },
    {
      "cell_type": "code",
      "metadata": {
        "id": "bZDRfbmfB817"
      },
      "source": [
        "from flask_ngrok import run_with_ngrok\n",
        "from flask import Flask, render_template, request\n",
        "app = Flask(__name__)   \n",
        "run_with_ngrok(app) #starts ngrok when the app is run\n",
        "@app.route(\"/\")\n",
        "def home():\n",
        "    return render_template('index.html')"
      ],
      "execution_count": 31,
      "outputs": []
    },
    {
      "cell_type": "code",
      "metadata": {
        "id": "ZnUolmqCF-DY"
      },
      "source": [
        "from keras.models import load_model"
      ],
      "execution_count": 25,
      "outputs": []
    },
    {
      "cell_type": "code",
      "metadata": {
        "id": "J0tg5NoAG3SR"
      },
      "source": [
        "model = load_model('ipl_model.h5')"
      ],
      "execution_count": 26,
      "outputs": []
    },
    {
      "cell_type": "code",
      "metadata": {
        "colab": {
          "base_uri": "https://localhost:8080/"
        },
        "id": "zS4TIJc-KoZd",
        "outputId": "b5970ed1-4338-40c8-a1ea-509fdb3c059a"
      },
      "source": [
        "from flask_ngrok import run_with_ngrok\n",
        "from flask import Flask, render_template, request\n",
        "from keras.models import load_model\n",
        "model = load_model('ipl_model.h5')\n",
        "app = Flask(__name__)   \n",
        "run_with_ngrok(app) #starts ngrok when the app is run\n",
        "@app.route(\"/\")\n",
        "def home():\n",
        "    return render_template('index.html')\n",
        "@app.route('/predict', methods=['GET', 'POST'])\n",
        "def predict():\n",
        "    temp_array = list()\n",
        "    if request.method == 'POST':\n",
        "        stadium = request.form['stadium']\n",
        "        if stadium == 'Barabati Stadium':\n",
        "            temp_array = temp_array + [1,0,0,0,0,0,0,0,0,0,0,0, 0,0 ,0 ,0 ,0, 0 , 0, 0 ,0 , 0]\n",
        "        elif stadium == 'Dr DY Patil Sports Academy' :\n",
        "            temp_array = temp_array + [0,1, 0, 0, 0, 0, 0, 0, 0, 0, 0, 0, 0, 0, 0, 0, 0, 0, 0, 0, 0, 0]\n",
        "        elif stadium == 'Dr. Y.S. Rajasekhara Reddy ACA-VDCA Cricket Stadium' :\n",
        "            temp_array = temp_array + [0, 0, 1, 0, 0, 0, 0, 0, 0, 0, 0, 0, 0, 0, 0, 0, 0, 0, 0, 0, 0, 0]\n",
        "        elif stadium == 'Dubai International Cricket Stadium' :\n",
        "            temp_array = temp_array + [0, 0, 0, 1, 0, 0, 0, 0, 0, 0, 0, 0, 0, 0, 0, 0, 0, 0, 0, 0, 0, 0]\n",
        "        elif stadium == 'Eden Gardens' :\n",
        "            temp_array = temp_array + [0, 0, 0, 0, 1, 0, 0, 0, 0, 0, 0, 0, 0, 0, 0, 0, 0, 0, 0, 0, 0, 0]\n",
        "        elif stadium == 'Feroz Shah Kotla' :\n",
        "            temp_array = temp_array + [0, 0, 0, 0, 0, 1, 0, 0, 0, 0, 0, 0, 0, 0, 0, 0, 0, 0, 0, 0, 0, 0]\n",
        "        elif stadium == 'Himachal Pradesh Cricket Association Stadium':\n",
        "            temp_array = temp_array + [0, 0, 0, 0, 0, 0, 1, 0, 0, 0, 0, 0, 0, 0, 0, 0, 0, 0, 0, 0, 0, 0]\n",
        "        elif stadium == 'Holkar Cricket Stadium':\n",
        "            temp_array = temp_array + [0, 0, 0, 0, 0, 0, 0, 1, 0, 0, 0, 0, 0, 0, 0, 0, 0, 0, 0, 0, 0, 0]\n",
        "        elif stadium == 'JSCA International Stadium Complex':\n",
        "            temp_array = temp_array + [0, 0, 0, 0, 0, 0, 0, 0, 1, 0, 0, 0, 0, 0, 0, 0, 0, 0, 0, 0, 0, 0]\n",
        "        elif stadium == 'M Chinnaswamy Stadium':\n",
        "            temp_array = temp_array + [0, 0, 0, 0, 0, 0, 0, 0, 0, 1, 0, 0, 0, 0, 0, 0, 0, 0, 0, 0, 0, 0]\n",
        "        elif stadium == 'MA Chidambaram Stadium, Chepauk':\n",
        "            temp_array = temp_array + [0, 0, 0, 0, 0, 0, 0, 0, 0, 0, 1, 0, 0, 0, 0, 0, 0, 0, 0, 0, 0, 0]\n",
        "        elif stadium == 'Maharashtra Cricket Association Stadium' :\n",
        "            temp_array = temp_array + [0, 0, 0, 0, 0, 0, 0, 0, 0, 0, 0, 1, 0, 0, 0, 0, 0, 0, 0, 0, 0, 0]\n",
        "        elif stadium == 'Punjab Cricket Association IS Bindra Stadium, Mohali' :\n",
        "            temp_array = temp_array + [0, 0, 0, 0, 0, 0, 0, 0, 0, 0, 0, 0, 1, 0, 0, 0, 0, 0, 0, 0, 0, 0]\n",
        "        elif stadium == 'Punjab Cricket Association Stadium, Mohali':\n",
        "            temp_array = temp_array + [0, 0, 0, 0, 0, 0, 0, 0, 0, 0, 0, 0, 0, 1, 0, 0, 0, 0, 0, 0, 0, 0]\n",
        "        elif stadium == 'Rajiv Gandhi International Stadium, Uppal':\n",
        "            temp_array = temp_array + [0, 0, 0, 0, 0, 0, 0, 0, 0, 0, 0, 0, 0, 0, 1, 0, 0, 0, 0, 0, 0, 0]\n",
        "        elif stadium == 'Sardar Patel Stadium, Motera':\n",
        "            temp_array = temp_array + [0, 0, 0, 0, 0, 0, 0, 0, 0, 0, 0, 0, 0, 0, 0, 1, 0, 0, 0, 0, 0, 0]\n",
        "        elif stadium == 'Sawai Mansingh Stadium':\n",
        "            temp_array = temp_array + [0, 0, 0, 0, 0, 0, 0, 0, 0, 0, 0, 0, 0, 0, 0, 0, 1, 0, 0, 0, 0, 0]\n",
        "        elif stadium == 'Shaheed Veer Narayan Singh International Stadium' :\n",
        "            temp_array = temp_array + [0, 0, 0, 0, 0, 0, 0, 0, 0, 0, 0, 0, 0, 0, 0, 0, 0, 1, 0, 0, 0, 0]\n",
        "        elif stadium == 'Sharjah Cricket Stadium' :\n",
        "            temp_array = temp_array + [0, 0, 0, 0, 0, 0, 0, 0, 0, 0, 0, 0, 0, 0, 0, 0, 0, 0, 1, 0, 0, 0]\n",
        "        elif stadium == 'Sheikh Zayed Stadium' :\n",
        "            temp_array = temp_array + [0, 0, 0, 0, 0, 0, 0, 0, 0, 0, 0, 0, 0, 0, 0, 0, 0, 0, 0, 1, 0, 0]\n",
        "        elif stadium == 'Subrata Roy Sahara Stadium' :\n",
        "            temp_array = temp_array + [0, 0, 0, 0, 0, 0, 0, 0, 0, 0, 0, 0, 0, 0, 0, 0, 0, 0, 0, 0, 1, 0]\n",
        "        elif stadium == 'Wankhede Stadium' :\n",
        "            temp_array = temp_array + [0, 0, 0, 0, 0, 0, 0, 0, 0, 0, 0, 0, 0, 0, 0, 0, 0, 0, 0, 0, 0, 1]\n",
        "\n",
        "        batting_team = request.form['batting-team']\n",
        "        if batting_team == 'Chennai Super Kings':\n",
        "            temp_array = temp_array + [1, 0, 0, 0, 0, 0, 0, 0]\n",
        "        elif batting_team == 'Delhi Daredevils':\n",
        "            temp_array = temp_array + [0, 1, 0, 0, 0, 0, 0, 0]\n",
        "        elif batting_team == 'Kings XI Punjab':\n",
        "            temp_array = temp_array + [0, 0, 1, 0, 0, 0, 0, 0]\n",
        "        elif batting_team == 'Kolkata Knight Riders':\n",
        "            temp_array = temp_array + [0, 0, 0, 1, 0, 0, 0, 0]\n",
        "        elif batting_team == 'Mumbai Indians':\n",
        "            temp_array = temp_array + [0, 0, 0, 0, 1, 0, 0, 0]\n",
        "        elif batting_team == 'Rajasthan Royals':\n",
        "            temp_array = temp_array + [0, 0, 0, 0, 0, 1, 0, 0]\n",
        "        elif batting_team == 'Royal Challengers Bangalore':\n",
        "            temp_array = temp_array + [0, 0, 0, 0, 0, 0, 1, 0]\n",
        "        elif batting_team == 'Sunrisers Hyderabad':\n",
        "            temp_array = temp_array + [0, 0, 0, 0, 0, 0, 0, 1]\n",
        "\n",
        "        bowling_team = request.form['bowling-team']\n",
        "        if bowling_team == 'Chennai Super Kings':\n",
        "            temp_array = temp_array + [1, 0, 0, 0, 0, 0, 0, 0]\n",
        "        elif bowling_team == 'Delhi Daredevils':\n",
        "            temp_array = temp_array + [0, 1, 0, 0, 0, 0, 0, 0]\n",
        "        elif bowling_team == 'Kings XI Punjab':\n",
        "            temp_array = temp_array + [0, 0, 1, 0, 0, 0, 0, 0]\n",
        "        elif bowling_team == 'Kolkata Knight Riders':\n",
        "            temp_array = temp_array + [0, 0, 0, 1, 0, 0, 0, 0]\n",
        "        elif bowling_team == 'Mumbai Indians':\n",
        "            temp_array = temp_array + [0, 0, 0, 0, 1, 0, 0, 0]\n",
        "        elif bowling_team == 'Rajasthan Royals':\n",
        "            temp_array = temp_array + [0, 0, 0, 0, 0, 1, 0, 0]\n",
        "        elif bowling_team == 'Royal Challengers Bangalore':\n",
        "            temp_array = temp_array + [0, 0, 0, 0, 0, 0, 1, 0]\n",
        "        elif bowling_team == 'Sunrisers Hyderabad':\n",
        "            temp_array = temp_array + [0, 0, 0, 0, 0, 0, 0, 1]\n",
        "\n",
        "        overs = float(request.form['overs'])\n",
        "        runs = int(request.form['runs'])\n",
        "        wickets = int(request.form['wickets'])\n",
        "        runs_in_prev_5 = int(request.form['runs_in_prev_5'])\n",
        "        wickets_in_prev_5 = int(request.form['wickets_in_prev_5'])\n",
        "\n",
        "        temp_array = temp_array + [overs, runs, wickets, runs_in_prev_5, wickets_in_prev_5]\n",
        "        data = np.array([temp_array])\n",
        "        res = model.predict(data)\n",
        "        return render_template('result.html',lower_limit=res-10,upper_limit=res+5)\n",
        "if __name__ == '__main__':\n",
        "  app.run()"
      ],
      "execution_count": 34,
      "outputs": [
        {
          "output_type": "stream",
          "text": [
            " * Serving Flask app \"__main__\" (lazy loading)\n",
            " * Environment: production\n",
            "\u001b[31m   WARNING: This is a development server. Do not use it in a production deployment.\u001b[0m\n",
            "\u001b[2m   Use a production WSGI server instead.\u001b[0m\n",
            " * Debug mode: off\n"
          ],
          "name": "stdout"
        },
        {
          "output_type": "stream",
          "text": [
            " * Running on http://127.0.0.1:5000/ (Press CTRL+C to quit)\n"
          ],
          "name": "stderr"
        },
        {
          "output_type": "stream",
          "text": [
            " * Running on http://b67ed07b1a7a.ngrok.io\n",
            " * Traffic stats available on http://127.0.0.1:4040\n"
          ],
          "name": "stdout"
        },
        {
          "output_type": "stream",
          "text": [
            "127.0.0.1 - - [05/Dec/2020 17:33:08] \"\u001b[37mGET / HTTP/1.1\u001b[0m\" 200 -\n",
            "127.0.0.1 - - [05/Dec/2020 17:33:08] \"\u001b[37mGET /static/styles.css HTTP/1.1\u001b[0m\" 200 -\n",
            "127.0.0.1 - - [05/Dec/2020 17:33:08] \"\u001b[33mGET /static/mi.jpg HTTP/1.1\u001b[0m\" 404 -\n",
            "127.0.0.1 - - [05/Dec/2020 17:33:09] \"\u001b[37mGET /static/srh.png HTTP/1.1\u001b[0m\" 200 -\n",
            "127.0.0.1 - - [05/Dec/2020 17:33:09] \"\u001b[37mGET /static/rcb.png HTTP/1.1\u001b[0m\" 200 -\n",
            "127.0.0.1 - - [05/Dec/2020 17:33:09] \"\u001b[37mGET /static/csk.png HTTP/1.1\u001b[0m\" 200 -\n",
            "127.0.0.1 - - [05/Dec/2020 17:33:09] \"\u001b[37mGET /static/rr.png HTTP/1.1\u001b[0m\" 200 -\n",
            "127.0.0.1 - - [05/Dec/2020 17:33:09] \"\u001b[37mGET /static/dc.png HTTP/1.1\u001b[0m\" 200 -\n",
            "127.0.0.1 - - [05/Dec/2020 17:33:09] \"\u001b[37mGET /static/kkr.jpg HTTP/1.1\u001b[0m\" 200 -\n",
            "127.0.0.1 - - [05/Dec/2020 17:33:10] \"\u001b[37mGET /static/kxip.png HTTP/1.1\u001b[0m\" 200 -\n",
            "127.0.0.1 - - [05/Dec/2020 17:33:15] \"\u001b[33mGET /static/ipl-favicon.ico HTTP/1.1\u001b[0m\" 404 -\n",
            "[2020-12-05 17:33:29,110] ERROR in app: Exception on /predict [POST]\n",
            "Traceback (most recent call last):\n",
            "  File \"/usr/local/lib/python3.6/dist-packages/flask/app.py\", line 2447, in wsgi_app\n",
            "    response = self.full_dispatch_request()\n",
            "  File \"/usr/local/lib/python3.6/dist-packages/flask/app.py\", line 1952, in full_dispatch_request\n",
            "    rv = self.handle_user_exception(e)\n",
            "  File \"/usr/local/lib/python3.6/dist-packages/flask/app.py\", line 1821, in handle_user_exception\n",
            "    reraise(exc_type, exc_value, tb)\n",
            "  File \"/usr/local/lib/python3.6/dist-packages/flask/_compat.py\", line 39, in reraise\n",
            "    raise value\n",
            "  File \"/usr/local/lib/python3.6/dist-packages/flask/app.py\", line 1950, in full_dispatch_request\n",
            "    rv = self.dispatch_request()\n",
            "  File \"/usr/local/lib/python3.6/dist-packages/flask/app.py\", line 1936, in dispatch_request\n",
            "    return self.view_functions[rule.endpoint](**req.view_args)\n",
            "  File \"<ipython-input-34-b312a2e8837e>\", line 104, in predict\n",
            "    res = model.predict(data)\n",
            "  File \"/usr/local/lib/python3.6/dist-packages/tensorflow/python/keras/engine/training.py\", line 130, in _method_wrapper\n",
            "    return method(self, *args, **kwargs)\n",
            "  File \"/usr/local/lib/python3.6/dist-packages/tensorflow/python/keras/engine/training.py\", line 1599, in predict\n",
            "    tmp_batch_outputs = predict_function(iterator)\n",
            "  File \"/usr/local/lib/python3.6/dist-packages/tensorflow/python/eager/def_function.py\", line 780, in __call__\n",
            "    result = self._call(*args, **kwds)\n",
            "  File \"/usr/local/lib/python3.6/dist-packages/tensorflow/python/eager/def_function.py\", line 823, in _call\n",
            "    self._initialize(args, kwds, add_initializers_to=initializers)\n",
            "  File \"/usr/local/lib/python3.6/dist-packages/tensorflow/python/eager/def_function.py\", line 697, in _initialize\n",
            "    *args, **kwds))\n",
            "  File \"/usr/local/lib/python3.6/dist-packages/tensorflow/python/eager/function.py\", line 2855, in _get_concrete_function_internal_garbage_collected\n",
            "    graph_function, _, _ = self._maybe_define_function(args, kwargs)\n",
            "  File \"/usr/local/lib/python3.6/dist-packages/tensorflow/python/eager/function.py\", line 3213, in _maybe_define_function\n",
            "    graph_function = self._create_graph_function(args, kwargs)\n",
            "  File \"/usr/local/lib/python3.6/dist-packages/tensorflow/python/eager/function.py\", line 3075, in _create_graph_function\n",
            "    capture_by_value=self._capture_by_value),\n",
            "  File \"/usr/local/lib/python3.6/dist-packages/tensorflow/python/framework/func_graph.py\", line 986, in func_graph_from_py_func\n",
            "    func_outputs = python_func(*func_args, **func_kwargs)\n",
            "  File \"/usr/local/lib/python3.6/dist-packages/tensorflow/python/eager/def_function.py\", line 600, in wrapped_fn\n",
            "    return weak_wrapped_fn().__wrapped__(*args, **kwds)\n",
            "  File \"/usr/local/lib/python3.6/dist-packages/tensorflow/python/framework/func_graph.py\", line 973, in wrapper\n",
            "    raise e.ag_error_metadata.to_exception(e)\n",
            "ValueError: in user code:\n",
            "\n",
            "    /usr/local/lib/python3.6/dist-packages/tensorflow/python/keras/engine/training.py:1462 predict_function  *\n",
            "        return step_function(self, iterator)\n",
            "    /usr/local/lib/python3.6/dist-packages/tensorflow/python/keras/engine/training.py:1452 step_function  **\n",
            "        outputs = model.distribute_strategy.run(run_step, args=(data,))\n",
            "    /usr/local/lib/python3.6/dist-packages/tensorflow/python/distribute/distribute_lib.py:1211 run\n",
            "        return self._extended.call_for_each_replica(fn, args=args, kwargs=kwargs)\n",
            "    /usr/local/lib/python3.6/dist-packages/tensorflow/python/distribute/distribute_lib.py:2585 call_for_each_replica\n",
            "        return self._call_for_each_replica(fn, args, kwargs)\n",
            "    /usr/local/lib/python3.6/dist-packages/tensorflow/python/distribute/distribute_lib.py:2945 _call_for_each_replica\n",
            "        return fn(*args, **kwargs)\n",
            "    /usr/local/lib/python3.6/dist-packages/tensorflow/python/keras/engine/training.py:1445 run_step  **\n",
            "        outputs = model.predict_step(data)\n",
            "    /usr/local/lib/python3.6/dist-packages/tensorflow/python/keras/engine/training.py:1418 predict_step\n",
            "        return self(x, training=False)\n",
            "    /usr/local/lib/python3.6/dist-packages/tensorflow/python/keras/engine/base_layer.py:976 __call__\n",
            "        self.name)\n",
            "    /usr/local/lib/python3.6/dist-packages/tensorflow/python/keras/engine/input_spec.py:216 assert_input_compatibility\n",
            "        ' but received input with shape ' + str(shape))\n",
            "\n",
            "    ValueError: Input 0 of layer sequential is incompatible with the layer: expected axis -1 of input shape to have value 42 but received input with shape [None, 43]\n",
            "\n",
            "127.0.0.1 - - [05/Dec/2020 17:33:29] \"\u001b[35m\u001b[1mPOST /predict HTTP/1.1\u001b[0m\" 500 -\n",
            "127.0.0.1 - - [05/Dec/2020 17:33:29] \"\u001b[33mGET /favicon.ico HTTP/1.1\u001b[0m\" 404 -\n"
          ],
          "name": "stderr"
        }
      ]
    },
    {
      "cell_type": "code",
      "metadata": {
        "id": "tdLj9hurKtPr"
      },
      "source": [
        ""
      ],
      "execution_count": null,
      "outputs": []
    }
  ]
}